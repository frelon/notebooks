{
 "cells": [
  {
   "cell_type": "code",
   "execution_count": 1,
   "metadata": {},
   "outputs": [
    {
     "data": {
      "text/plain": [
       "[map\n",
       "   [(\"AcTypeID\", 1s); (\"AgreedMRC\", null); (\"AgreedNRC\", null);\n",
       "    (\"AgreementEndDate\", null); (\"AgreementPeriodID\", null); (\"CapacityID\", 1s);\n",
       "    (\"Comment\", \"Leo Burnett AB\"); (\"CommentFb\", null);\n",
       "    (\"ConfirmedInstCost\", null); ...];\n",
       " map\n",
       "   [(\"AcTypeID\", 1s); (\"AgreedMRC\", null); (\"AgreedNRC\", null);\n",
       "    (\"AgreementEndDate\", null); (\"AgreementPeriodID\", null); (\"CapacityID\", 6s);\n",
       "    (\"Comment\", \"nist\"); (\"CommentFb\", null); (\"ConfirmedInstCost\", null); ...];\n",
       " map\n",
       "   [(\"AcTypeID\", 1s); (\"AgreedMRC\", null); (\"AgreedNRC\", null);\n",
       "    (\"AgreementEndDate\", null); (\"AgreementPeriodID\", null); (\"CapacityID\", 1s);\n",
       "    (\"Comment\", \"IF friskis & svettis\"); (\"CommentFb\", null);\n",
       "    (\"ConfirmedInstCost\", null); ...];\n",
       " map\n",
       "   [(\"AcTypeID\", 1s); (\"AgreedMRC\", null); (\"AgreedNRC\", null);\n",
       "    (\"AgreementEndDate\", null); (\"AgreementPeriodID\", null); (\"CapacityID\", 1s);\n",
       "    (\"Comment\", \"Sila Communication Swe\"); (\"CommentFb\", null);\n",
       "    (\"ConfirmedInstCost\", null); ...];\n",
       " map\n",
       "   [(\"AcTypeID\", 1s); (\"AgreedMRC\", null); (\"AgreedNRC\", null);\n",
       "    (\"AgreementEndDate\", null); (\"AgreementPeriodID\", null); (\"CapacityID\", 1s);\n",
       "    (\"Comment\", \"MPS Sverige AB/abbeställd\"); (\"CommentFb\", null);\n",
       "    (\"ConfirmedInstCost\", null); ...];\n",
       " map\n",
       "   [(\"AcTypeID\", 1s); (\"AgreedMRC\", 95.67M); (\"AgreedNRC\", null);\n",
       "    (\"AgreementEndDate\", null); (\"AgreementPeriodID\", null); (\"CapacityID\", 6s);\n",
       "    (\"Comment\", \"Granit & funk kungsgatan\"); (\"CommentFb\", null);\n",
       "    (\"ConfirmedInstCost\", null); ...];\n",
       " map\n",
       "   [(\"AcTypeID\", 1s); (\"AgreedMRC\", null); (\"AgreedNRC\", null);\n",
       "    (\"AgreementEndDate\", null); (\"AgreementPeriodID\", null); (\"CapacityID\", 1s);\n",
       "    (\"Comment\", \"Nordisk färgmedia\"); (\"CommentFb\", null);\n",
       "    (\"ConfirmedInstCost\", null); ...];\n",
       " map\n",
       "   [(\"AcTypeID\", 1s); (\"AgreedMRC\", null); (\"AgreedNRC\", null);\n",
       "    (\"AgreementEndDate\", null); (\"AgreementPeriodID\", null); (\"CapacityID\", 1s);\n",
       "    (\"Comment\", \"Swedish Orphan (flytt ADSL)\"); (\"CommentFb\", null);\n",
       "    (\"ConfirmedInstCost\", null); ...];\n",
       " map\n",
       "   [(\"AcTypeID\", 1s); (\"AgreedMRC\", null); (\"AgreedNRC\", null);\n",
       "    (\"AgreementEndDate\", null); (\"AgreementPeriodID\", null); (\"CapacityID\", 1s);\n",
       "    (\"Comment\", \"SLA Interactive ny\"); (\"CommentFb\", null);\n",
       "    (\"ConfirmedInstCost\", null); ...];\n",
       " map\n",
       "   [(\"AcTypeID\", 1s); (\"AgreedMRC\", null); (\"AgreedNRC\", null);\n",
       "    (\"AgreementEndDate\", null); (\"AgreementPeriodID\", null); (\"CapacityID\", 1s);\n",
       "    (\"Comment\", \"HiQ data Ny\"); (\"CommentFb\", null); (\"ConfirmedInstCost\", null);\n",
       "    ...]]"
      ]
     },
     "execution_count": 1,
     "metadata": {},
     "output_type": "execute_result"
    }
   ],
   "source": [
    "#load \"Paket.fsx\"\n",
    "Paket.Package [\"SQLProvider\"]\n",
    "#load \"Paket.Generated.Refs.fsx\"\n",
    "\n",
    "open System.Linq\n",
    "open FSharp.Data.Sql\n",
    "\n",
    "type sql  = SqlDataProvider<\n",
    "                Common.DatabaseProviderTypes.MSSQLSERVER,\n",
    "                \"Data Source=dgc-sth-lap-326.dgc.local;Initial Catalog=Access_Infrastructure;User Id=reader;Password=Password01;\",\n",
    "                CaseSensitivityChange = Common.CaseSensitivityChange.ORIGINAL\n",
    "            >\n",
    "let ctx = sql.GetDataContext()\n",
    "\n",
    "let example =\n",
    "    query {\n",
    "        for access in ctx.Dbo.Access do\n",
    "        take 10\n",
    "        select (access)\n",
    "    }\n",
    "    |> Seq.toList\n",
    "    |> List.map(fun c -> c.ColumnValues |> Map.ofSeq)\n",
    "\n",
    "example\n"
   ]
  }
 ],
 "metadata": {
  "kernelspec": {
   "display_name": "F#",
   "language": "fsharp",
   "name": "ifsharp"
  },
  "language": "fsharp",
  "language_info": {
   "codemirror_mode": "",
   "file_extension": ".fs",
   "mimetype": "text/x-fsharp",
   "name": "fsharp",
   "nbconvert_exporter": "",
   "pygments_lexer": "",
   "version": "4.3.1.0"
  }
 },
 "nbformat": 4,
 "nbformat_minor": 2
}
