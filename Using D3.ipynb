{
 "cells": [
  {
   "cell_type": "code",
   "execution_count": 4,
   "metadata": {},
   "outputs": [
    {
     "data": {
      "text/html": [
       "<script src=\"https://d3js.org/d3.v3.min.js\"></script>"
      ]
     },
     "metadata": {},
     "output_type": "display_data"
    }
   ],
   "source": [
    "@\"<script src=\"\"https://d3js.org/d3.v3.min.js\"\"></script>\" |> Util.Html |> Display"
   ]
  },
  {
   "cell_type": "code",
   "execution_count": 5,
   "metadata": {},
   "outputs": [],
   "source": [
    "type D3Op = {\n",
    "    Op: string\n",
    "    Style: List<string * string>\n",
    "    Attr: List<string * int>\n",
    "    On: List<string * List<D3Op>>\n",
    "}\n",
    "\n",
    "type D3 = List<D3Op>\n",
    "\n",
    "let d3op = {Op = \"\"; Style = []; Attr = []; On = []}\n",
    "\n",
    "let mapConcat s f xs = \n",
    "    xs |> List.map f |> String.concat s\n",
    "\n",
    "let rec D3OpPrinter (op: D3Op) =\n",
    "    sprintf \n",
    "        \"%s%s%s%s\"\n",
    "        (if op.Op.Length > 0 then\n",
    "            sprintf \"\\t.append(\\\"%s\\\")\\n\" op.Op\n",
    "        else\n",
    "            \"\")\n",
    "        (op.Style |> mapConcat \"\\t\" (fun (k, v) -> sprintf \".style(\\\"%s\\\", \\\"%s\\\")\\n\" k v ) )\n",
    "        (op.Attr |> mapConcat \"\\t\" (fun (k, v) -> sprintf \".attr(\\\"%s\\\", %d)\\n\" k v))\n",
    "        (op.On\n",
    "            |> mapConcat \"\\t\" (fun (k, v) ->\n",
    "                sprintf \n",
    "                    \".on(\\\"%s\\\",\\n\\tfunction(){\\n\\td3.select(this)\\n%s\\t})\\n\"\n",
    "                    k\n",
    "                    (v |> mapConcat \"\" D3OpPrinter)\n",
    "                ))\n",
    "\n",
    "let D3Printer (d3: D3) =\n",
    "    sprintf \n",
    "        \"\"\"\n",
    "<div id=\"viz\"></div>\n",
    "<script type=\"text/javascript\">\n",
    "\n",
    "d3.select(\"#viz\")\n",
    "%s\n",
    "\"\"\"\n",
    "        (d3 |> mapConcat \"\" D3OpPrinter)\n",
    "\n",
    "App.AddDisplayPrinter (fun (d3: D3) ->\n",
    "  { ContentType = \"text/html\"\n",
    "    Data = D3Printer d3 }\n",
    "  )"
   ]
  },
  {
   "cell_type": "code",
   "execution_count": 6,
   "metadata": {},
   "outputs": [
    {
     "data": {
      "text/html": [
       "\n",
       "<div id=\"viz\"></div>\n",
       "<script type=\"text/javascript\">\n",
       "\n",
       "d3.select(\"#viz\")\n",
       "\t.append(\"svg\")\n",
       ".attr(\"width\", 100)\n",
       "\t.attr(\"height\", 100)\n",
       "\t.append(\"circle\")\n",
       ".style(\"stroke\", \"grey\")\n",
       "\t.style(\"fill\", \"white\")\n",
       ".attr(\"r\", 40)\n",
       "\t.attr(\"cx\", 50)\n",
       "\t.attr(\"cy\", 50)\n",
       ".on(\"mouseover\",\n",
       "\tfunction(){\n",
       "\td3.select(this)\n",
       ".style(\"fill\", \"red\")\n",
       "\t})\n",
       "\t.on(\"mouseout\",\n",
       "\tfunction(){\n",
       "\td3.select(this)\n",
       ".style(\"fill\", \"white\")\n",
       "\t})\n",
       "\n"
      ]
     },
     "execution_count": 6,
     "metadata": {},
     "output_type": "execute_result"
    }
   ],
   "source": [
    "[\n",
    "    {d3op with \n",
    "        Op = \"svg\"\n",
    "        Attr = [(\"width\", 100); (\"height\", 100)] }\n",
    "    {d3op with\n",
    "        Op = \"circle\"\n",
    "        Style = [(\"stroke\", \"grey\"); (\"fill\", \"white\")]\n",
    "        Attr = [(\"r\", 40); (\"cx\", 50); (\"cy\", 50)]\n",
    "        On = \n",
    "          [ (\"mouseover\", [{d3op with Style = [(\"fill\", \"red\")]}])\n",
    "            (\"mouseout\", [{d3op with Style = [(\"fill\", \"white\")]}]) ] }\n",
    "]"
   ]
  },
  {
   "cell_type": "code",
   "execution_count": null,
   "metadata": {},
   "outputs": [],
   "source": []
  }
 ],
 "metadata": {
  "kernelspec": {
   "display_name": "F#",
   "language": "fsharp",
   "name": "ifsharp"
  },
  "language": "fsharp",
  "language_info": {
   "codemirror_mode": "",
   "file_extension": ".fs",
   "mimetype": "text/x-fsharp",
   "name": "fsharp",
   "nbconvert_exporter": "",
   "pygments_lexer": "",
   "version": "4.3.1.0"
  }
 },
 "nbformat": 4,
 "nbformat_minor": 2
}
