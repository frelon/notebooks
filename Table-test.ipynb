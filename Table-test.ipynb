{
 "cells": [
  {
   "cell_type": "code",
   "execution_count": 1,
   "metadata": {},
   "outputs": [
    {
     "data": {
      "text/html": [
       "<table><thead><tr><th>FirstName</th><th>LastName</th></tr></thead><tbody><tr><td>Walter</td><td>Harp</td></tr><tr><td>Jeff</td><td>Smith</td></tr><tr><td>Ben</td><td>Smith</td></tr><tr><td></td><td>Holly</td></tr><tbody></tbody></table>"
      ]
     },
     "execution_count": 1,
     "metadata": {},
     "output_type": "execute_result"
    }
   ],
   "source": [
    "type MyType = { FirstName: string; LastName: string }\n",
    "let records = \n",
    "    [|\n",
    "        { FirstName = \"Walter\"; LastName = \"Harp\" }\n",
    "        { FirstName = \"Jeff\"; LastName = \"Smith\" }\n",
    "        { FirstName = \"Ben\"; LastName = \"Smith\" }\n",
    "        { FirstName = \"\"; LastName = \"Holly\" }\n",
    "    |]\n",
    "\n",
    "records |> Util.Table"
   ]
  },
  {
   "cell_type": "code",
   "execution_count": null,
   "metadata": {},
   "outputs": [],
   "source": []
  }
 ],
 "metadata": {
  "kernelspec": {
   "display_name": "F#",
   "language": "fsharp",
   "name": "ifsharp"
  },
  "language": "fsharp",
  "language_info": {
   "codemirror_mode": "",
   "file_extension": ".fs",
   "mimetype": "text/x-fsharp",
   "name": "fsharp",
   "nbconvert_exporter": "",
   "pygments_lexer": "",
   "version": "4.3.1.0"
  }
 },
 "nbformat": 4,
 "nbformat_minor": 2
}
